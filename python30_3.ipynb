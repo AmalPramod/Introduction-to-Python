{
  "nbformat": 4,
  "nbformat_minor": 0,
  "metadata": {
    "colab": {
      "provenance": [],
      "authorship_tag": "ABX9TyOyZxcFQyJKE69vy5GhxeWX",
      "include_colab_link": true
    },
    "kernelspec": {
      "name": "python3",
      "display_name": "Python 3"
    },
    "language_info": {
      "name": "python"
    }
  },
  "cells": [
    {
      "cell_type": "markdown",
      "metadata": {
        "id": "view-in-github",
        "colab_type": "text"
      },
      "source": [
        "<a href=\"https://colab.research.google.com/github/AmalPramod/Introduction-to-Python/blob/main/python30_3.ipynb\" target=\"_parent\"><img src=\"https://colab.research.google.com/assets/colab-badge.svg\" alt=\"Open In Colab\"/></a>"
      ]
    },
    {
      "cell_type": "code",
      "execution_count": 2,
      "metadata": {
        "colab": {
          "base_uri": "https://localhost:8080/"
        },
        "id": "d8_d2oNXGMCr",
        "outputId": "c2f4b655-5c1e-46ee-a96a-2a882afe2fc7"
      },
      "outputs": [
        {
          "output_type": "stream",
          "name": "stdout",
          "text": [
            "enter the no of rows4\n",
            "   * \n",
            "  * * \n",
            " * * * \n",
            "* * * * \n"
          ]
        }
      ],
      "source": [
        "num=int(input(\"enter the no of rows\"))\n",
        "row=0\n",
        "while row<num :\n",
        "  space=num-row-1\n",
        "  while space>0 :\n",
        "    print(end=\" \")\n",
        "    space=space-1\n",
        "  star=row+1\n",
        "  while star>0 :\n",
        "    print(\"*\",end=\" \")\n",
        "    star=star-1\n",
        "  row=row+1\n",
        "  print()"
      ]
    },
    {
      "cell_type": "code",
      "source": [
        "#foor loop\n",
        "files=[\"Joker.mp4\",\"Memories.mp4\",\"Money Heist.mp4\"]\n",
        "for x in files :\n",
        "  print(x)"
      ],
      "metadata": {
        "colab": {
          "base_uri": "https://localhost:8080/"
        },
        "id": "f0Vn-HkqGe5i",
        "outputId": "51f84e6e-9845-4e60-b30c-16d7c5f8f4ae"
      },
      "execution_count": 4,
      "outputs": [
        {
          "output_type": "stream",
          "name": "stdout",
          "text": [
            "Joker.mp4\n",
            "Memories.mp4\n",
            "Money Heist.mp4\n"
          ]
        }
      ]
    },
    {
      "cell_type": "code",
      "source": [
        "print(x[0:-4])"
      ],
      "metadata": {
        "colab": {
          "base_uri": "https://localhost:8080/"
        },
        "id": "j4kBSGWEkPz5",
        "outputId": "87190814-73a8-4bf0-9507-7f23c65f5443"
      },
      "execution_count": 5,
      "outputs": [
        {
          "output_type": "stream",
          "name": "stdout",
          "text": [
            "Money Heist\n"
          ]
        }
      ]
    },
    {
      "cell_type": "code",
      "source": [
        "for x in files :\n",
        "  print(x[0:-4])"
      ],
      "metadata": {
        "colab": {
          "base_uri": "https://localhost:8080/"
        },
        "id": "NQPBaCKqke3-",
        "outputId": "20de17d4-7e51-4b96-9893-3ff81fed01b2"
      },
      "execution_count": 19,
      "outputs": [
        {
          "output_type": "stream",
          "name": "stdout",
          "text": [
            "Joker\n",
            "Memories\n",
            "Money Heist\n"
          ]
        }
      ]
    },
    {
      "cell_type": "code",
      "source": [
        "n=int(input(\"multiplication table of which number is required\"))\n",
        "v=int(input('enter the limit to which multiplication is required'))\n",
        "for x in range(1,v+1) :\n",
        "  print(str(x)+\"X\"+str(n)+\"=\"+str(x*n))\n",
        "  i=i+1"
      ],
      "metadata": {
        "colab": {
          "base_uri": "https://localhost:8080/"
        },
        "id": "-E-HCsFFp21E",
        "outputId": "0ceeade7-3633-4935-9290-516c25362b3d"
      },
      "execution_count": 31,
      "outputs": [
        {
          "output_type": "stream",
          "name": "stdout",
          "text": [
            "multiplication table of which number is required2\n",
            "enter the limit to which multiplication is required10\n",
            "1X2=2\n",
            "2X2=4\n",
            "3X2=6\n",
            "4X2=8\n",
            "5X2=10\n",
            "6X2=12\n",
            "7X2=14\n",
            "8X2=16\n",
            "9X2=18\n",
            "10X2=20\n"
          ]
        }
      ]
    },
    {
      "cell_type": "code",
      "source": [
        "for i in range(1,6):\n",
        "  for j in range(1,i+1):\n",
        "    print(j,end=\" \")\n",
        "  print()\n",
        "\n",
        "\n"
      ],
      "metadata": {
        "colab": {
          "base_uri": "https://localhost:8080/"
        },
        "id": "e4CSu4u9r11m",
        "outputId": "cb70e254-1aad-403f-d72b-a0546c29157f"
      },
      "execution_count": 4,
      "outputs": [
        {
          "output_type": "stream",
          "name": "stdout",
          "text": [
            "1 \n",
            "1 2 \n",
            "1 2 3 \n",
            "1 2 3 4 \n",
            "1 2 3 4 5 \n"
          ]
        }
      ]
    },
    {
      "cell_type": "code",
      "source": [
        "for i in range(1,6):\n",
        "  for j in range(1,i+1):\n",
        "     print(i,end=\" \")\n",
        "  print()\n"
      ],
      "metadata": {
        "colab": {
          "base_uri": "https://localhost:8080/"
        },
        "id": "aGKeU2swn5Ue",
        "outputId": "0527226f-cc8a-407d-f58a-41623ef264c4"
      },
      "execution_count": 17,
      "outputs": [
        {
          "output_type": "stream",
          "name": "stdout",
          "text": [
            "1 \n",
            "2 2 \n",
            "3 3 3 \n",
            "4 4 4 4 \n",
            "5 5 5 5 5 \n"
          ]
        }
      ]
    },
    {
      "cell_type": "code",
      "source": [
        "for i in range(1,6):\n",
        "  for j in range(1,i+1):\n",
        "       print(i,end=\" \")\n",
        "       i=i+1\n",
        "  print()     "
      ],
      "metadata": {
        "colab": {
          "base_uri": "https://localhost:8080/"
        },
        "id": "B-g6aVSqqQLn",
        "outputId": "9a0f7c3b-4479-463f-9308-3a95fd5fb4a4"
      },
      "execution_count": 71,
      "outputs": [
        {
          "output_type": "stream",
          "name": "stdout",
          "text": [
            "1 \n",
            "2 3 \n",
            "3 4 5 \n",
            "4 5 6 7 \n",
            "5 6 7 8 9 \n"
          ]
        }
      ]
    },
    {
      "cell_type": "code",
      "source": [
        "n=5\n",
        "for i in range(n):\n",
        "  for j in range(1,n+1-i):\n",
        "    print(j,end=\" \")\n",
        "  print()  "
      ],
      "metadata": {
        "colab": {
          "base_uri": "https://localhost:8080/"
        },
        "id": "lsbQ2vDBxd7H",
        "outputId": "7b5311a5-e900-41ed-b252-3af12de8088a"
      },
      "execution_count": 79,
      "outputs": [
        {
          "output_type": "stream",
          "name": "stdout",
          "text": [
            "1 2 3 4 5 \n",
            "1 2 3 4 \n",
            "1 2 3 \n",
            "1 2 \n",
            "1 \n"
          ]
        }
      ]
    },
    {
      "cell_type": "code",
      "source": [],
      "metadata": {
        "id": "iFoX1Pg33dwW"
      },
      "execution_count": null,
      "outputs": []
    }
  ]
}