{
  "nbformat": 4,
  "nbformat_minor": 0,
  "metadata": {
    "colab": {
      "provenance": [],
      "authorship_tag": "ABX9TyMtLxY9gQvSNHH3SkwMB/7W",
      "include_colab_link": true
    },
    "kernelspec": {
      "name": "python3",
      "display_name": "Python 3"
    },
    "language_info": {
      "name": "python"
    }
  },
  "cells": [
    {
      "cell_type": "markdown",
      "metadata": {
        "id": "view-in-github",
        "colab_type": "text"
      },
      "source": [
        "<a href=\"https://colab.research.google.com/github/AmalPramod/Introduction-to-Python/blob/main/02_DF.ipynb\" target=\"_parent\"><img src=\"https://colab.research.google.com/assets/colab-badge.svg\" alt=\"Open In Colab\"/></a>"
      ]
    },
    {
      "cell_type": "code",
      "execution_count": 1,
      "metadata": {
        "colab": {
          "base_uri": "https://localhost:8080/"
        },
        "id": "ubnXecuSgzoH",
        "outputId": "c919fd6e-79f6-4caa-f78e-66685f7f2873"
      },
      "outputs": [
        {
          "output_type": "execute_result",
          "data": {
            "text/plain": [
              "45"
            ]
          },
          "metadata": {},
          "execution_count": 1
        }
      ],
      "source": [
        "30+15"
      ]
    },
    {
      "cell_type": "code",
      "source": [],
      "metadata": {
        "id": "PcERu5R8dw8N"
      },
      "execution_count": 1,
      "outputs": []
    },
    {
      "cell_type": "code",
      "source": [],
      "metadata": {
        "id": "aKlVdYXudyrL"
      },
      "execution_count": 1,
      "outputs": []
    },
    {
      "cell_type": "code",
      "source": [
        "30*15\n"
      ],
      "metadata": {
        "colab": {
          "base_uri": "https://localhost:8080/"
        },
        "id": "PJvloyeNhc6T",
        "outputId": "7243575d-9cf4-41b9-cc10-f588a50afb8e"
      },
      "execution_count": 2,
      "outputs": [
        {
          "output_type": "execute_result",
          "data": {
            "text/plain": [
              "450"
            ]
          },
          "metadata": {},
          "execution_count": 2
        }
      ]
    },
    {
      "cell_type": "code",
      "source": [
        "30/15"
      ],
      "metadata": {
        "colab": {
          "base_uri": "https://localhost:8080/"
        },
        "id": "d3pWbFcPhtsr",
        "outputId": "e1da1781-c342-40ef-a85b-90daaf08acb5"
      },
      "execution_count": 3,
      "outputs": [
        {
          "output_type": "execute_result",
          "data": {
            "text/plain": [
              "2.0"
            ]
          },
          "metadata": {},
          "execution_count": 3
        }
      ]
    },
    {
      "cell_type": "code",
      "source": [
        "30-15"
      ],
      "metadata": {
        "colab": {
          "base_uri": "https://localhost:8080/"
        },
        "id": "jFpF6C5Yhvi4",
        "outputId": "2d007e3e-eebf-4d3c-d55f-b22b95e1a3fb"
      },
      "execution_count": 4,
      "outputs": [
        {
          "output_type": "execute_result",
          "data": {
            "text/plain": [
              "15"
            ]
          },
          "metadata": {},
          "execution_count": 4
        }
      ]
    },
    {
      "cell_type": "code",
      "source": [
        "x=10"
      ],
      "metadata": {
        "id": "ywvtL0EehyTf"
      },
      "execution_count": 5,
      "outputs": []
    },
    {
      "cell_type": "code",
      "source": [
        "print(x)"
      ],
      "metadata": {
        "colab": {
          "base_uri": "https://localhost:8080/"
        },
        "id": "9QmtxfIniSTn",
        "outputId": "93ae6cd4-2e7a-4720-9388-dc06b273c069"
      },
      "execution_count": 6,
      "outputs": [
        {
          "output_type": "stream",
          "name": "stdout",
          "text": [
            "10\n"
          ]
        }
      ]
    },
    {
      "cell_type": "code",
      "source": [
        "y=20"
      ],
      "metadata": {
        "id": "I-ql7XzsiWui"
      },
      "execution_count": 7,
      "outputs": []
    },
    {
      "cell_type": "code",
      "source": [
        "print(x,y)"
      ],
      "metadata": {
        "colab": {
          "base_uri": "https://localhost:8080/"
        },
        "id": "8mpXLSPDi69T",
        "outputId": "9d25a244-dad4-4632-d953-66a0e747462c"
      },
      "execution_count": 8,
      "outputs": [
        {
          "output_type": "stream",
          "name": "stdout",
          "text": [
            "10 20\n"
          ]
        }
      ]
    },
    {
      "cell_type": "code",
      "source": [
        "print(x+y)"
      ],
      "metadata": {
        "colab": {
          "base_uri": "https://localhost:8080/"
        },
        "id": "yuwxzWoLjVXa",
        "outputId": "d6e8e1cd-db7c-4b5a-89fe-ec4a4e914bd7"
      },
      "execution_count": 9,
      "outputs": [
        {
          "output_type": "stream",
          "name": "stdout",
          "text": [
            "30\n"
          ]
        }
      ]
    },
    {
      "cell_type": "code",
      "source": [
        "print(x-y)"
      ],
      "metadata": {
        "colab": {
          "base_uri": "https://localhost:8080/"
        },
        "id": "AouAa8uKjiFq",
        "outputId": "f10c4428-4e17-4138-ba65-32a6ae1b4a08"
      },
      "execution_count": 10,
      "outputs": [
        {
          "output_type": "stream",
          "name": "stdout",
          "text": [
            "-10\n"
          ]
        }
      ]
    },
    {
      "cell_type": "code",
      "source": [
        "print(x*y)"
      ],
      "metadata": {
        "colab": {
          "base_uri": "https://localhost:8080/"
        },
        "id": "55x2HC9Wjkcq",
        "outputId": "76807e42-29fe-4d1b-b0b3-b7f78a44243d"
      },
      "execution_count": 11,
      "outputs": [
        {
          "output_type": "stream",
          "name": "stdout",
          "text": [
            "200\n"
          ]
        }
      ]
    },
    {
      "cell_type": "code",
      "source": [
        "x/y"
      ],
      "metadata": {
        "colab": {
          "base_uri": "https://localhost:8080/"
        },
        "id": "KcVNwemOjnIT",
        "outputId": "27acbe7b-a19c-400e-88bd-cc8cec397ac7"
      },
      "execution_count": 12,
      "outputs": [
        {
          "output_type": "execute_result",
          "data": {
            "text/plain": [
              "0.5"
            ]
          },
          "metadata": {},
          "execution_count": 12
        }
      ]
    },
    {
      "cell_type": "code",
      "source": [
        "x='amal pramod'"
      ],
      "metadata": {
        "id": "JjfSeNpLjqv3"
      },
      "execution_count": 13,
      "outputs": []
    },
    {
      "cell_type": "code",
      "source": [
        "y=\"amal pramod\""
      ],
      "metadata": {
        "id": "3cFQPlWIkTbf"
      },
      "execution_count": 14,
      "outputs": []
    },
    {
      "cell_type": "code",
      "source": [
        "print(x,y)"
      ],
      "metadata": {
        "colab": {
          "base_uri": "https://localhost:8080/"
        },
        "id": "Q_upQOlfkX2m",
        "outputId": "41f2da0b-6abc-43db-f930-b874bba33ae0"
      },
      "execution_count": 15,
      "outputs": [
        {
          "output_type": "stream",
          "name": "stdout",
          "text": [
            "amal pramod amal pramod\n"
          ]
        }
      ]
    },
    {
      "cell_type": "code",
      "source": [
        "print(0)"
      ],
      "metadata": {
        "colab": {
          "base_uri": "https://localhost:8080/"
        },
        "id": "spq2Sl7dke4U",
        "outputId": "b9551eca-eeca-4a6b-b363-56c9f323c84c"
      },
      "execution_count": 16,
      "outputs": [
        {
          "output_type": "stream",
          "name": "stdout",
          "text": [
            "0\n"
          ]
        }
      ]
    },
    {
      "cell_type": "code",
      "source": [
        "x[0]"
      ],
      "metadata": {
        "colab": {
          "base_uri": "https://localhost:8080/",
          "height": 35
        },
        "id": "-X3wn3qgls3S",
        "outputId": "5705441d-b6de-4e59-e0fe-7ed7d8c048c2"
      },
      "execution_count": 17,
      "outputs": [
        {
          "output_type": "execute_result",
          "data": {
            "text/plain": [
              "'a'"
            ],
            "application/vnd.google.colaboratory.intrinsic+json": {
              "type": "string"
            }
          },
          "metadata": {},
          "execution_count": 17
        }
      ]
    },
    {
      "cell_type": "code",
      "source": [
        "x[10]"
      ],
      "metadata": {
        "colab": {
          "base_uri": "https://localhost:8080/",
          "height": 35
        },
        "id": "iALbeSJGlw0b",
        "outputId": "2a362171-65e9-4dfb-b2d2-6e63d9ba7cae"
      },
      "execution_count": 18,
      "outputs": [
        {
          "output_type": "execute_result",
          "data": {
            "text/plain": [
              "'d'"
            ],
            "application/vnd.google.colaboratory.intrinsic+json": {
              "type": "string"
            }
          },
          "metadata": {},
          "execution_count": 18
        }
      ]
    },
    {
      "cell_type": "code",
      "source": [
        "x[-1]"
      ],
      "metadata": {
        "colab": {
          "base_uri": "https://localhost:8080/",
          "height": 35
        },
        "id": "4exTUgXImHrZ",
        "outputId": "56d4f69e-13a6-45a8-a132-afaaaf28d93e"
      },
      "execution_count": 19,
      "outputs": [
        {
          "output_type": "execute_result",
          "data": {
            "text/plain": [
              "'d'"
            ],
            "application/vnd.google.colaboratory.intrinsic+json": {
              "type": "string"
            }
          },
          "metadata": {},
          "execution_count": 19
        }
      ]
    },
    {
      "cell_type": "code",
      "source": [
        "x[-9]"
      ],
      "metadata": {
        "colab": {
          "base_uri": "https://localhost:8080/",
          "height": 35
        },
        "id": "OSOKjwa7mzVY",
        "outputId": "4ee19ccc-e105-4af7-d4ab-8d29138588a3"
      },
      "execution_count": 20,
      "outputs": [
        {
          "output_type": "execute_result",
          "data": {
            "text/plain": [
              "'a'"
            ],
            "application/vnd.google.colaboratory.intrinsic+json": {
              "type": "string"
            }
          },
          "metadata": {},
          "execution_count": 20
        }
      ]
    },
    {
      "cell_type": "code",
      "source": [
        "x[0:4]"
      ],
      "metadata": {
        "colab": {
          "base_uri": "https://localhost:8080/",
          "height": 35
        },
        "id": "0T0qAN1om9bt",
        "outputId": "8e6a033f-ff3a-49d5-8ec4-9f7c84cbd69b"
      },
      "execution_count": 21,
      "outputs": [
        {
          "output_type": "execute_result",
          "data": {
            "text/plain": [
              "'amal'"
            ],
            "application/vnd.google.colaboratory.intrinsic+json": {
              "type": "string"
            }
          },
          "metadata": {},
          "execution_count": 21
        }
      ]
    },
    {
      "cell_type": "code",
      "source": [
        "x[5:11]"
      ],
      "metadata": {
        "colab": {
          "base_uri": "https://localhost:8080/",
          "height": 35
        },
        "id": "MtDdGticn-Cr",
        "outputId": "bbf3d668-ed8d-4498-f6b1-7c11d27fc0e0"
      },
      "execution_count": 22,
      "outputs": [
        {
          "output_type": "execute_result",
          "data": {
            "text/plain": [
              "'pramod'"
            ],
            "application/vnd.google.colaboratory.intrinsic+json": {
              "type": "string"
            }
          },
          "metadata": {},
          "execution_count": 22
        }
      ]
    },
    {
      "cell_type": "code",
      "source": [
        "x[-11:-7]"
      ],
      "metadata": {
        "colab": {
          "base_uri": "https://localhost:8080/",
          "height": 35
        },
        "id": "-hT-OIQKoGc1",
        "outputId": "072a2d98-96f5-4b67-8415-d9d81bd6f894"
      },
      "execution_count": 23,
      "outputs": [
        {
          "output_type": "execute_result",
          "data": {
            "text/plain": [
              "'amal'"
            ],
            "application/vnd.google.colaboratory.intrinsic+json": {
              "type": "string"
            }
          },
          "metadata": {},
          "execution_count": 23
        }
      ]
    },
    {
      "cell_type": "code",
      "source": [
        "x[-6:0]"
      ],
      "metadata": {
        "colab": {
          "base_uri": "https://localhost:8080/",
          "height": 35
        },
        "id": "LuxaVBWyoi53",
        "outputId": "0cbfdc27-8e1a-41e0-8627-e801ae514ca9"
      },
      "execution_count": 24,
      "outputs": [
        {
          "output_type": "execute_result",
          "data": {
            "text/plain": [
              "''"
            ],
            "application/vnd.google.colaboratory.intrinsic+json": {
              "type": "string"
            }
          },
          "metadata": {},
          "execution_count": 24
        }
      ]
    },
    {
      "cell_type": "code",
      "source": [
        "x[-6:-1]"
      ],
      "metadata": {
        "colab": {
          "base_uri": "https://localhost:8080/",
          "height": 35
        },
        "id": "MhXZpDA4oqYt",
        "outputId": "eea07943-2758-4ad1-9347-c794366a83bf"
      },
      "execution_count": 25,
      "outputs": [
        {
          "output_type": "execute_result",
          "data": {
            "text/plain": [
              "'pramo'"
            ],
            "application/vnd.google.colaboratory.intrinsic+json": {
              "type": "string"
            }
          },
          "metadata": {},
          "execution_count": 25
        }
      ]
    },
    {
      "cell_type": "code",
      "source": [
        "x[-6:]"
      ],
      "metadata": {
        "colab": {
          "base_uri": "https://localhost:8080/",
          "height": 35
        },
        "id": "c1YEoExupVBj",
        "outputId": "1835101c-4f3f-4fc1-d4c5-faf5d4fb5735"
      },
      "execution_count": 26,
      "outputs": [
        {
          "output_type": "execute_result",
          "data": {
            "text/plain": [
              "'pramod'"
            ],
            "application/vnd.google.colaboratory.intrinsic+json": {
              "type": "string"
            }
          },
          "metadata": {},
          "execution_count": 26
        }
      ]
    },
    {
      "cell_type": "code",
      "source": [
        "print(x+\" \"+y)"
      ],
      "metadata": {
        "colab": {
          "base_uri": "https://localhost:8080/"
        },
        "id": "b7RiA_y2tk3C",
        "outputId": "92895da0-187f-4591-be0e-f77eca484e7b"
      },
      "execution_count": 27,
      "outputs": [
        {
          "output_type": "stream",
          "name": "stdout",
          "text": [
            "amal pramod amal pramod\n"
          ]
        }
      ]
    },
    {
      "cell_type": "code",
      "source": [
        "x=\"10\"\n",
        "y=\"20\"\n",
        "print(x+y)"
      ],
      "metadata": {
        "colab": {
          "base_uri": "https://localhost:8080/"
        },
        "id": "s5OobHcHtuR7",
        "outputId": "bf73e8bf-ff96-4fe2-c6a9-47926668eb9b"
      },
      "execution_count": 28,
      "outputs": [
        {
          "output_type": "stream",
          "name": "stdout",
          "text": [
            "1020\n"
          ]
        }
      ]
    },
    {
      "cell_type": "code",
      "source": [
        "print(type(x))"
      ],
      "metadata": {
        "colab": {
          "base_uri": "https://localhost:8080/"
        },
        "id": "4PMf0RC6uQfP",
        "outputId": "600ecae1-f75a-4e33-ab70-0228c5aa68f0"
      },
      "execution_count": 29,
      "outputs": [
        {
          "output_type": "stream",
          "name": "stdout",
          "text": [
            "<class 'str'>\n"
          ]
        }
      ]
    },
    {
      "cell_type": "code",
      "source": [
        "x=10.5\n",
        "print(type(x))"
      ],
      "metadata": {
        "colab": {
          "base_uri": "https://localhost:8080/"
        },
        "id": "pnFGW5mAvDgQ",
        "outputId": "ea4272b5-6655-4795-c999-cf23a5824e43"
      },
      "execution_count": 30,
      "outputs": [
        {
          "output_type": "stream",
          "name": "stdout",
          "text": [
            "<class 'float'>\n"
          ]
        }
      ]
    },
    {
      "cell_type": "code",
      "source": [
        "input(\"enter your name\")"
      ],
      "metadata": {
        "colab": {
          "base_uri": "https://localhost:8080/",
          "height": 53
        },
        "id": "E6c1U5RovLjO",
        "outputId": "e2a7d5ec-48d1-4319-a5a4-f070dba45e93"
      },
      "execution_count": 31,
      "outputs": [
        {
          "name": "stdout",
          "output_type": "stream",
          "text": [
            "enter your nameamal\n"
          ]
        },
        {
          "output_type": "execute_result",
          "data": {
            "text/plain": [
              "'amal'"
            ],
            "application/vnd.google.colaboratory.intrinsic+json": {
              "type": "string"
            }
          },
          "metadata": {},
          "execution_count": 31
        }
      ]
    },
    {
      "cell_type": "code",
      "source": [
        "print(x)"
      ],
      "metadata": {
        "colab": {
          "base_uri": "https://localhost:8080/"
        },
        "id": "38ADHwmZvkSf",
        "outputId": "ee195a7a-a5b9-4e57-8d43-44465ba75da3"
      },
      "execution_count": 32,
      "outputs": [
        {
          "output_type": "stream",
          "name": "stdout",
          "text": [
            "10.5\n"
          ]
        }
      ]
    },
    {
      "cell_type": "code",
      "source": [
        "x=input(\"enter your name\")"
      ],
      "metadata": {
        "colab": {
          "base_uri": "https://localhost:8080/"
        },
        "id": "zhMQV1d6vtlY",
        "outputId": "1595bd69-5b93-4d60-eef9-4d0e62eaab1e"
      },
      "execution_count": 33,
      "outputs": [
        {
          "name": "stdout",
          "output_type": "stream",
          "text": [
            "enter your nameamal\n"
          ]
        }
      ]
    },
    {
      "cell_type": "code",
      "source": [
        "print(x)"
      ],
      "metadata": {
        "colab": {
          "base_uri": "https://localhost:8080/"
        },
        "id": "7OtzbLL5vzpz",
        "outputId": "b3f3a121-148c-4be4-c115-e5075871f12e"
      },
      "execution_count": 34,
      "outputs": [
        {
          "output_type": "stream",
          "name": "stdout",
          "text": [
            "amal\n"
          ]
        }
      ]
    },
    {
      "cell_type": "code",
      "source": [
        "x=input(\"entr your marks\")"
      ],
      "metadata": {
        "id": "OYjRSTUCwWBQ"
      },
      "execution_count": null,
      "outputs": []
    },
    {
      "cell_type": "code",
      "source": [
        "print(x)\n",
        "print(type(x))"
      ],
      "metadata": {
        "id": "ZlP-ddKAwxtU"
      },
      "execution_count": null,
      "outputs": []
    },
    {
      "cell_type": "code",
      "source": [
        "x=int(input(\"enter your marks\"))"
      ],
      "metadata": {
        "id": "yBFM5tslw7LQ"
      },
      "execution_count": null,
      "outputs": []
    },
    {
      "cell_type": "code",
      "source": [
        "print(type(x))"
      ],
      "metadata": {
        "id": "je_p13fqxBpc"
      },
      "execution_count": null,
      "outputs": []
    },
    {
      "cell_type": "code",
      "source": [
        "x=int(input(\"enter your ist no\"))\n",
        "y=int(input(\"enter your 2nd no\"))\n",
        "print(x+y)\n",
        "print(x/y)\n",
        "print(x*y)"
      ],
      "metadata": {
        "id": "6cjvagRbxicl"
      },
      "execution_count": null,
      "outputs": []
    },
    {
      "cell_type": "code",
      "source": [
        "I=int(input(\"enter the current measured\"))\n",
        "R=int(input(\"enter the resistance value\"))\n",
        "V=I*R\n",
        "print(V)"
      ],
      "metadata": {
        "id": "2bw2zaHNx4rM"
      },
      "execution_count": null,
      "outputs": []
    },
    {
      "cell_type": "code",
      "source": [
        "print(\"voltage=\",I*R)"
      ],
      "metadata": {
        "id": "2AWUf7m9ysMF"
      },
      "execution_count": null,
      "outputs": []
    },
    {
      "cell_type": "code",
      "source": [
        "a=int(input(\"enter your marks:\"))\n",
        "if a>120:\n",
        "  print(\"PASSED\")\n",
        "else:\n",
        "    print(\"FAILED\")"
      ],
      "metadata": {
        "id": "Egbig7WLy8y5"
      },
      "execution_count": null,
      "outputs": []
    },
    {
      "cell_type": "code",
      "source": [
        "x=int(input(\"enter your marks\"))\n",
        "if 0<x<20:\n",
        "    print(\"FAILED\")\n",
        "if 21<x<50:\n",
        "      print(\"PASSED\")\n",
        "if 51<x<75:\n",
        "        print(\"DISTINCTION\")\n",
        "if 76<x<100:\n",
        "        print('ist classs')\n",
        "if x>80:\n",
        "  y=int(input(\"Enter no of arreirs\"))\n",
        "  if y==0:\n",
        "    print(\"DISTINCTION\")\n",
        "  if y>0:\n",
        "    print(\"NO DISTINCTION\")"
      ],
      "metadata": {
        "id": "UpfTH20E1Hn8"
      },
      "execution_count": null,
      "outputs": []
    },
    {
      "cell_type": "code",
      "source": [
        "x=int(input(\"enter your marks\"))\n",
        "if x>80:\n",
        "  y=int(input(\"Enter no of arreirs\"))\n",
        "  if y==0:\n",
        "    print(\"DISTINCTION\")\n",
        "  if y>0:\n",
        "    print(\"NO DISTINCTION\")\n",
        "\n"
      ],
      "metadata": {
        "id": "jSznln8E2-B_"
      },
      "execution_count": null,
      "outputs": []
    },
    {
      "cell_type": "code",
      "source": [
        "x=int(input(\"enter the number\"))\n",
        "y=x%2\n",
        "if y==0:\n",
        "  print(\"EVEN NUMBER\")\n",
        "if y!=0:\n",
        "  print(\"ODD NUMBER\")  "
      ],
      "metadata": {
        "id": "4NA_bdCG6DT5"
      },
      "execution_count": null,
      "outputs": []
    },
    {
      "cell_type": "code",
      "source": [
        "y=1\n",
        "for k in range(101):\n",
        " if k%2==0:\n",
        "    y=y+k\n",
        "print(y)\n"
      ],
      "metadata": {
        "id": "NM68ZacfKS61"
      },
      "execution_count": null,
      "outputs": []
    },
    {
      "cell_type": "code",
      "source": [
        "x=1\n",
        "for k in range(1,101):\n",
        "  x=x*k\n",
        "print(x)\n",
        "\n"
      ],
      "metadata": {
        "id": "S2KCsEKrOsqS"
      },
      "execution_count": null,
      "outputs": []
    },
    {
      "cell_type": "code",
      "source": [
        "for k in range(100):\n",
        "  if k==5:\n",
        "    break;\n",
        "  print(k)  "
      ],
      "metadata": {
        "id": "Q2qM7FNcOsu6"
      },
      "execution_count": null,
      "outputs": []
    },
    {
      "cell_type": "markdown",
      "source": [],
      "metadata": {
        "id": "87lyNY3zVqMo"
      }
    },
    {
      "cell_type": "code",
      "source": [
        "for k in range(100):\n",
        "  x=int(input(\"enter the number\"))\n",
        "  y=int(input(\"enter the number\")\n",
        "  if y==0:\n",
        "    break;\n",
        "    print(x)\n",
        "      if y==1:\n",
        "      x=x+k\n",
        "      print(x)\n",
        "  \n",
        "    "
      ],
      "metadata": {
        "id": "5UpFAAHSTASB"
      },
      "execution_count": null,
      "outputs": []
    },
    {
      "cell_type": "code",
      "source": [
        "sum=0\n",
        "for k in range(100):\n",
        "  x=int(input(\"ENTER A NO\"))\n",
        "  sum=sum+x\n",
        "  y=int(input(\"press 0 to confirm or 1\"))\n",
        "  if y==0:\n",
        "    break;\n",
        "  print(sum)"
      ],
      "metadata": {
        "id": "452c7jADWc9o"
      },
      "execution_count": null,
      "outputs": []
    },
    {
      "cell_type": "code",
      "source": [
        "\n",
        "k=0\n",
        "while(k<100):\n",
        "    print(k)\n",
        "    k=k+1"
      ],
      "metadata": {
        "id": "XNTI-W5xZceJ"
      },
      "execution_count": null,
      "outputs": []
    },
    {
      "cell_type": "code",
      "source": [
        "k=0\n",
        "sum=0\n",
        "while(k<=100):\n",
        "    sum=sum+k\n",
        "    k=k+1\n",
        "print(sum)\n",
        "    "
      ],
      "metadata": {
        "id": "QZ16ECkPbLAN"
      },
      "execution_count": null,
      "outputs": []
    },
    {
      "cell_type": "code",
      "source": [
        "k=0\n",
        "sum=0\n",
        "while(k<=100):\n",
        "  if k%2==1:\n",
        "    sum=sum+k\n",
        "  k=k+1\n",
        "print(sum)"
      ],
      "metadata": {
        "id": "io4Xkx61cKFE"
      },
      "execution_count": null,
      "outputs": []
    },
    {
      "cell_type": "code",
      "source": [
        "for x in range(10):\n",
        " if x==5:\n",
        "  continue;\n",
        " print(x)"
      ],
      "metadata": {
        "id": "AocvzQvvdufv"
      },
      "execution_count": null,
      "outputs": []
    },
    {
      "cell_type": "code",
      "source": [
        "for x in range(100):\n",
        "  if x%2==0:\n",
        "    continue;\n",
        "  print(x) "
      ],
      "metadata": {
        "id": "QndPDEr9fqY_"
      },
      "execution_count": null,
      "outputs": []
    },
    {
      "cell_type": "code",
      "source": [
        "x=[1,2,\"india\",256]\n",
        "print(x[0])\n",
        "print(x[-1])\n",
        "print([2])\n",
        "print(x[-2])\n",
        "print(x[0:3])\n",
        "print(x[-2:])"
      ],
      "metadata": {
        "id": "L4eMBehVle4M"
      },
      "execution_count": null,
      "outputs": []
    },
    {
      "cell_type": "code",
      "source": [
        "x.append(\"amal\")\n",
        "print(x)"
      ],
      "metadata": {
        "id": "M5Wim3GBn7YP"
      },
      "execution_count": null,
      "outputs": []
    },
    {
      "cell_type": "code",
      "source": [
        "x.append(\"sanath\")\n",
        "print(x)"
      ],
      "metadata": {
        "id": "RaRZu4zCpAaI"
      },
      "execution_count": null,
      "outputs": []
    },
    {
      "cell_type": "code",
      "source": [
        "x.insert(1,\"toms\")\n",
        "print(x)"
      ],
      "metadata": {
        "id": "pd1l0egMqVwX"
      },
      "execution_count": null,
      "outputs": []
    },
    {
      "cell_type": "code",
      "source": [
        "from traitlets.config.application import T\n",
        "x=[\"vimal\",\"alan\",\"sagar\"]\n",
        "t=x[0]\n",
        "x[0]=x[-1]\n",
        "x[-1]=t\n",
        "print(x)\n",
        "\n",
        "\n",
        "\n"
      ],
      "metadata": {
        "id": "r8F2Kr6vq3Uj"
      },
      "execution_count": null,
      "outputs": []
    },
    {
      "cell_type": "code",
      "source": [
        "import pandas as pd"
      ],
      "metadata": {
        "id": "EhLup1HWd1Zj"
      },
      "execution_count": null,
      "outputs": []
    },
    {
      "cell_type": "code",
      "source": [
        "df=pd.read_csv(\"/content/Supermarket_sales.csv\")"
      ],
      "metadata": {
        "id": "x7A73SdceDvO"
      },
      "execution_count": null,
      "outputs": []
    },
    {
      "cell_type": "code",
      "source": [
        "print(df)"
      ],
      "metadata": {
        "id": "sA8jcchmgx-d"
      },
      "execution_count": null,
      "outputs": []
    },
    {
      "cell_type": "code",
      "source": [
        "df.head()"
      ],
      "metadata": {
        "id": "DwsMqGemhZJN"
      },
      "execution_count": null,
      "outputs": []
    },
    {
      "cell_type": "code",
      "source": [
        "df.tail()"
      ],
      "metadata": {
        "id": "hlnebde5hyad"
      },
      "execution_count": null,
      "outputs": []
    },
    {
      "cell_type": "code",
      "source": [
        "df.City"
      ],
      "metadata": {
        "id": "uVZyGgY4iJrF"
      },
      "execution_count": null,
      "outputs": []
    },
    {
      "cell_type": "code",
      "source": [
        "df.InvoiceID"
      ],
      "metadata": {
        "id": "ITWuBWU1iNFd"
      },
      "execution_count": null,
      "outputs": []
    },
    {
      "cell_type": "markdown",
      "source": [],
      "metadata": {
        "id": "hwVyZeddivv2"
      }
    },
    {
      "cell_type": "code",
      "source": [
        "df[\"City\"]"
      ],
      "metadata": {
        "id": "VuVC5P3qiq-V"
      },
      "execution_count": null,
      "outputs": []
    },
    {
      "cell_type": "code",
      "source": [
        "df.InvoiceID[1]"
      ],
      "metadata": {
        "id": "Hz28GbjHivEd"
      },
      "execution_count": null,
      "outputs": []
    },
    {
      "cell_type": "code",
      "source": [
        "df.Unitprice.max()"
      ],
      "metadata": {
        "id": "DhDb3iIXjTbW"
      },
      "execution_count": null,
      "outputs": []
    },
    {
      "cell_type": "code",
      "source": [
        "df.Unitprice.min()"
      ],
      "metadata": {
        "id": "W1bVsS6oj3Vs"
      },
      "execution_count": null,
      "outputs": []
    },
    {
      "cell_type": "code",
      "source": [
        "df.Unitprice.mean()"
      ],
      "metadata": {
        "id": "TkFdQISRj810"
      },
      "execution_count": null,
      "outputs": []
    },
    {
      "cell_type": "code",
      "source": [
        "df.Quantity.max()"
      ],
      "metadata": {
        "id": "v8znHom7j__d"
      },
      "execution_count": null,
      "outputs": []
    },
    {
      "cell_type": "code",
      "source": [
        "df.Quantity.min()"
      ],
      "metadata": {
        "id": "DTPTqHkEkIUN"
      },
      "execution_count": null,
      "outputs": []
    },
    {
      "cell_type": "code",
      "source": [
        "df.Quantity.mean()"
      ],
      "metadata": {
        "id": "l_yI4TUOkLnl"
      },
      "execution_count": null,
      "outputs": []
    },
    {
      "cell_type": "code",
      "source": [
        "df.Productline[0]"
      ],
      "metadata": {
        "id": "IMXQevDXkTUg"
      },
      "execution_count": null,
      "outputs": []
    },
    {
      "cell_type": "code",
      "source": [
        "df.Quantity.loc[df[\"Productline\"]==\"Health and beauty\"].max()"
      ],
      "metadata": {
        "id": "hKUOnaejkq2d"
      },
      "execution_count": null,
      "outputs": []
    },
    {
      "cell_type": "code",
      "source": [
        "df.Quantity.loc[df[\"Productline\"]==\"Health and beauty\"].min()\n"
      ],
      "metadata": {
        "id": "1gMSCjjkl6nQ"
      },
      "execution_count": null,
      "outputs": []
    },
    {
      "cell_type": "code",
      "source": [
        "df.Quantity.loc[df[\"Productline\"]==\"Health and beauty\"].mean()"
      ],
      "metadata": {
        "id": "kLtIFOE0n8XI"
      },
      "execution_count": null,
      "outputs": []
    },
    {
      "cell_type": "code",
      "source": [
        "df.Unitprice.loc[df[\"Productline\"]==\"Health and beauty\"].max()"
      ],
      "metadata": {
        "id": "5L-t-EqzmvgR"
      },
      "execution_count": null,
      "outputs": []
    },
    {
      "cell_type": "code",
      "source": [
        "df.Unitprice.loc[df[\"Productline\"]==\"Health and beauty\"].min()"
      ],
      "metadata": {
        "id": "aslMY6vlnMGl"
      },
      "execution_count": null,
      "outputs": []
    },
    {
      "cell_type": "code",
      "source": [
        "df.Unitprice.loc[df[\"Productline\"]==\"Health and beauty\"].mean()"
      ],
      "metadata": {
        "id": "PTeMN-G7nX3d"
      },
      "execution_count": null,
      "outputs": []
    },
    {
      "cell_type": "code",
      "source": [
        "df.Quantity.loc[df[\"Productline\"]==\"Electronic accessories\"].max()"
      ],
      "metadata": {
        "id": "zBpcZrF3nkEM"
      },
      "execution_count": null,
      "outputs": []
    },
    {
      "cell_type": "code",
      "source": [
        "df.InvoiceID.loc[(df[\"Productline\"]==\"Health and beauty\") & (df[\"Gender\"]==\"Male\")].count()"
      ],
      "metadata": {
        "id": "AXXNh3sEowA9"
      },
      "execution_count": null,
      "outputs": []
    },
    {
      "cell_type": "code",
      "source": [
        "df.Quantity.loc[((df[\"Productline\"]==\"Fashion accessories\") | (df[\"Productline\"]==\"Sports and travel\") ) & (df[\"Gender\"]==\"Female\")].count()"
      ],
      "metadata": {
        "id": "1cuiFl3-p41z"
      },
      "execution_count": null,
      "outputs": []
    },
    {
      "cell_type": "code",
      "source": [
        "import matplotlib.pyplot as plt"
      ],
      "metadata": {
        "id": "OlFTm2Kaq52c"
      },
      "execution_count": null,
      "outputs": []
    },
    {
      "cell_type": "code",
      "source": [
        "x=[1,2,3,4,5,6]\n",
        "y=[3,4,5,6,7,8]\n",
        "plt.plot(x,y,\".-\",color=\"green\")"
      ],
      "metadata": {
        "id": "r-hzd63Fw3kr"
      },
      "execution_count": null,
      "outputs": []
    },
    {
      "cell_type": "code",
      "source": [
        "x=[1,5,7,8,12]\n",
        "y=[4,7,9,15,18]\n",
        "z=[10,13,15,18,19]\n",
        "plt.plot(x,y,color=\"red\")\n",
        "plt.plot(x,z,color=\"green\")\n",
        "plt.plot(y,z,color=\"yellow\")"
      ],
      "metadata": {
        "id": "V52_2Fe5xWZT"
      },
      "execution_count": null,
      "outputs": []
    },
    {
      "cell_type": "code",
      "source": [
        "plt.plot(df.Quantity,df.Tax,\".\")"
      ],
      "metadata": {
        "id": "nZ2OfFBLzGC4"
      },
      "execution_count": null,
      "outputs": []
    },
    {
      "cell_type": "code",
      "source": [
        "df.Tax.loc[df[\"City\"]==\"Yangon\"].sum()"
      ],
      "metadata": {
        "id": "fprILe5U4Shr"
      },
      "execution_count": null,
      "outputs": []
    },
    {
      "cell_type": "code",
      "source": [
        "a=df.Quantity.loc[df[\"City\"]==\"Yangon\"].sum()\n",
        "b=df.Quantity.loc[df[\"City\"]==\"Mandalay\"].sum()\n",
        "if a>b:\n",
        "  print(\"Yangon\")\n",
        "  print(a)\n",
        "if b>a:\n",
        "  print(\"Mandalay\")\n",
        "  print(b)\n"
      ],
      "metadata": {
        "id": "7mQnl2OY5npz"
      },
      "execution_count": null,
      "outputs": []
    },
    {
      "cell_type": "code",
      "source": [
        "df.Branch.loc[df[\"City\"]==\"Yangon\"]"
      ],
      "metadata": {
        "id": "lrbtCDuo8jYO"
      },
      "execution_count": null,
      "outputs": []
    },
    {
      "cell_type": "code",
      "source": [
        "plt.plot(df.Tax,df.Unitprice,\".\")"
      ],
      "metadata": {
        "id": "SsAHZzOX-HNp"
      },
      "execution_count": null,
      "outputs": []
    },
    {
      "cell_type": "code",
      "source": [
        "a=df.gross_iincome.max()\n",
        "b=df.Date.loc[df[\"gross_iincome\"]==a]\n",
        "print(b)"
      ],
      "metadata": {
        "id": "jkinwuEu_iUx"
      },
      "execution_count": null,
      "outputs": []
    },
    {
      "cell_type": "code",
      "source": [
        "a=df.gross_iincome.loc[df[\"Gender\"]==\"Male\"].max()\n",
        "b=df.gross_iincome.loc[df[\"Gender\"]==\"Female\"].max()\n",
        "if a>b:\n",
        "  print(\"male\")\n",
        "  print(a)\n",
        "if b>a:\n",
        "  print(\"Female\")\n",
        "  print(b)  "
      ],
      "metadata": {
        "id": "biaIcmH4ATzx"
      },
      "execution_count": null,
      "outputs": []
    },
    {
      "cell_type": "code",
      "source": [
        "a=df.gross_iincome.max()\n",
        "c=df.Productline.loc[df[\"gross_iincome\"]==a]\n",
        "print(c)\n",
        "d=df.Unitprice.max()\n",
        "\n",
        "\n",
        "\n"
      ],
      "metadata": {
        "id": "AGHD5Dr9Twv_"
      },
      "execution_count": null,
      "outputs": []
    },
    {
      "cell_type": "code",
      "source": [
        "a=df.gross_iincome.min()\n",
        "b=df.InvoiceID.loc[df[\"gross_iincome\"]==a]\n",
        "print(b)"
      ],
      "metadata": {
        "id": "vSssKbi4YgY2"
      },
      "execution_count": null,
      "outputs": []
    },
    {
      "cell_type": "code",
      "source": [
        "plt.plot(df.Payment,df.gross_iincome,\".\")"
      ],
      "metadata": {
        "id": "Spy6PJmvZ4X2"
      },
      "execution_count": null,
      "outputs": []
    },
    {
      "cell_type": "code",
      "source": [],
      "metadata": {
        "id": "e-z81nS9aYB-"
      },
      "execution_count": null,
      "outputs": []
    }
  ]
}