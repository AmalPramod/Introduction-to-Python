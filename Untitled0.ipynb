{
  "nbformat": 4,
  "nbformat_minor": 0,
  "metadata": {
    "colab": {
      "provenance": [],
      "authorship_tag": "ABX9TyNSyjQnRN7j4pCZqlEjJ78r",
      "include_colab_link": true
    },
    "kernelspec": {
      "name": "python3",
      "display_name": "Python 3"
    },
    "language_info": {
      "name": "python"
    }
  },
  "cells": [
    {
      "cell_type": "markdown",
      "metadata": {
        "id": "view-in-github",
        "colab_type": "text"
      },
      "source": [
        "<a href=\"https://colab.research.google.com/github/AmalPramod/Introduction-to-Python/blob/main/Untitled0.ipynb\" target=\"_parent\"><img src=\"https://colab.research.google.com/assets/colab-badge.svg\" alt=\"Open In Colab\"/></a>"
      ]
    },
    {
      "cell_type": "code",
      "execution_count": 11,
      "metadata": {
        "colab": {
          "base_uri": "https://localhost:8080/"
        },
        "id": "zlLSOb2n1GQ5",
        "outputId": "996f2d8d-5b00-4c9b-9370-1efdf8606e96"
      },
      "outputs": [
        {
          "output_type": "stream",
          "name": "stdout",
          "text": [
            "['python', 'django', 'javascript']\n"
          ]
        }
      ],
      "source": [
        "#lists\n",
        "#mutable property\n",
        "values=[\"python\",\"django\",\"javascript\"]\n",
        "print(values)"
      ]
    },
    {
      "cell_type": "code",
      "source": [
        "values[1]=(\"php\")\n",
        "print(values)"
      ],
      "metadata": {
        "colab": {
          "base_uri": "https://localhost:8080/"
        },
        "id": "zFRBslq32qut",
        "outputId": "09061852-418b-4899-cab7-cdc81a15ab64"
      },
      "execution_count": 12,
      "outputs": [
        {
          "output_type": "stream",
          "name": "stdout",
          "text": [
            "['python', 'php', 'javascript']\n"
          ]
        }
      ]
    },
    {
      "cell_type": "code",
      "source": [
        "print(values[0])"
      ],
      "metadata": {
        "colab": {
          "base_uri": "https://localhost:8080/"
        },
        "id": "nqr3tnUZ26Nl",
        "outputId": "5c65f61d-99bf-4fc5-b577-7600f4992701"
      },
      "execution_count": 4,
      "outputs": [
        {
          "output_type": "stream",
          "name": "stdout",
          "text": [
            "python\n"
          ]
        }
      ]
    },
    {
      "cell_type": "code",
      "source": [
        "print(values[-1])"
      ],
      "metadata": {
        "colab": {
          "base_uri": "https://localhost:8080/"
        },
        "id": "kzssAEik3YW0",
        "outputId": "dfae313c-dae0-4199-df86-9d3d4b66e847"
      },
      "execution_count": 5,
      "outputs": [
        {
          "output_type": "stream",
          "name": "stdout",
          "text": [
            "javascript\n"
          ]
        }
      ]
    },
    {
      "cell_type": "code",
      "source": [
        "print(len(values[1]))"
      ],
      "metadata": {
        "colab": {
          "base_uri": "https://localhost:8080/"
        },
        "id": "0ncdZfRc4HWZ",
        "outputId": "47cc3117-e2f7-4078-8ac7-5188543d7b7f"
      },
      "execution_count": 9,
      "outputs": [
        {
          "output_type": "stream",
          "name": "stdout",
          "text": [
            "6\n"
          ]
        }
      ]
    },
    {
      "cell_type": "code",
      "source": [
        "values=values+[\"amal\",\"pramod\",10]\n",
        "print(values)"
      ],
      "metadata": {
        "colab": {
          "base_uri": "https://localhost:8080/"
        },
        "id": "7a63ogl-4p1A",
        "outputId": "96d8a894-14c5-4c24-fa8c-e5bef9775a7f"
      },
      "execution_count": 13,
      "outputs": [
        {
          "output_type": "stream",
          "name": "stdout",
          "text": [
            "['python', 'php', 'javascript', 'amal', 'pramod', 10]\n"
          ]
        }
      ]
    },
    {
      "cell_type": "code",
      "source": [
        "#appending a value in list\n",
        "values.append(\"haii\")"
      ],
      "metadata": {
        "id": "4jQdDRqP5m0F"
      },
      "execution_count": 14,
      "outputs": []
    },
    {
      "cell_type": "code",
      "source": [
        "print(values)"
      ],
      "metadata": {
        "colab": {
          "base_uri": "https://localhost:8080/"
        },
        "id": "31RHHaPw509b",
        "outputId": "0d09eff4-09f6-4a4a-d651-e8ee9d23df85"
      },
      "execution_count": 15,
      "outputs": [
        {
          "output_type": "stream",
          "name": "stdout",
          "text": [
            "['python', 'php', 'javascript', 'amal', 'pramod', 10, 'haii']\n"
          ]
        }
      ]
    },
    {
      "cell_type": "code",
      "source": [
        "values.append(input(\"enter a no\"))"
      ],
      "metadata": {
        "colab": {
          "base_uri": "https://localhost:8080/"
        },
        "id": "fhCJZSf054Kr",
        "outputId": "ef9c4276-6127-4285-9001-be3de2ecec1a"
      },
      "execution_count": 16,
      "outputs": [
        {
          "name": "stdout",
          "output_type": "stream",
          "text": [
            "enter a no15\n"
          ]
        }
      ]
    },
    {
      "cell_type": "code",
      "source": [
        "print(values)"
      ],
      "metadata": {
        "colab": {
          "base_uri": "https://localhost:8080/"
        },
        "id": "FPSR_iyS6Iia",
        "outputId": "e4af2aa4-8ff0-48a9-ca6a-6ba1839e7c87"
      },
      "execution_count": 17,
      "outputs": [
        {
          "output_type": "stream",
          "name": "stdout",
          "text": [
            "['python', 'php', 'javascript', 'amal', 'pramod', 10, 'haii', '15']\n"
          ]
        }
      ]
    },
    {
      "cell_type": "code",
      "source": [
        "#if conditional statement\n",
        "num=int(input(\"enter a number\"))\n",
        "if num<0 :\n",
        "   print(\"value is negative\")\n",
        "elif num==0 :\n",
        "   print(\"value is neither positive nor negative\")    \n",
        "else :\n",
        "   print(\"value is positive\")   "
      ],
      "metadata": {
        "colab": {
          "base_uri": "https://localhost:8080/"
        },
        "id": "0sIwK_t56N7i",
        "outputId": "aad560e7-2b21-485e-b61d-0227858229a7"
      },
      "execution_count": 23,
      "outputs": [
        {
          "output_type": "stream",
          "name": "stdout",
          "text": [
            "enter a number0\n",
            "value is neither positive nor negative\n"
          ]
        }
      ]
    },
    {
      "cell_type": "code",
      "source": [
        "#hotel menu\n",
        "list=[\"1:rice, 2:biriyani, 3:porotta ,4:chappatti\"]\n",
        "print(list)\n",
        "choice=int(input(\"Enter your choice\"))\n",
        "if choice==1 :\n",
        "  print(\"choice is rice\")\n",
        "elif choice==2 :\n",
        "  print(\"choice is biriyani\")\n",
        "elif choice==3 :\n",
        "  print(\"choice is porotta\")\n",
        "elif choice==4 :\n",
        "  print(\"choice is chappati\")\n",
        "else :\n",
        "  print(\"wrong choice\")        "
      ],
      "metadata": {
        "colab": {
          "base_uri": "https://localhost:8080/"
        },
        "id": "NIVKrAQ9Bel4",
        "outputId": "03b023dc-f76d-4fde-9d7b-3e1f54c5d7a0"
      },
      "execution_count": 31,
      "outputs": [
        {
          "output_type": "stream",
          "name": "stdout",
          "text": [
            "['1:rice, 2:biriyani, 3:porotta ,4:chappatti']\n",
            "Enter your choice5\n",
            "wrong choice\n"
          ]
        }
      ]
    },
    {
      "cell_type": "code",
      "source": [
        "#while loop sample\n",
        "i=20\n",
        "while i<=10 :\n",
        "      print(i)\n",
        "      i=i+1\n",
        "else :\n",
        "  print(\"loop finished\")      "
      ],
      "metadata": {
        "colab": {
          "base_uri": "https://localhost:8080/"
        },
        "id": "2Qw_hIUuERiG",
        "outputId": "ee5226d3-3b07-4d46-f3b5-a0daf6cc0bdf"
      },
      "execution_count": 36,
      "outputs": [
        {
          "output_type": "stream",
          "name": "stdout",
          "text": [
            "loop finished\n"
          ]
        }
      ]
    },
    {
      "cell_type": "code",
      "source": [
        "i=1\n",
        "j=1\n",
        "r=int(input(\"enter the number of rows\"))\n",
        "while i<=r :\n",
        "    \n",
        "      print(\"*\\n\" )\n",
        "      i=i+1"
      ],
      "metadata": {
        "colab": {
          "base_uri": "https://localhost:8080/"
        },
        "id": "03wvJ4mbY2dI",
        "outputId": "4076b4dd-2bc7-4d5e-e9df-cd5de24e0f40"
      },
      "execution_count": 40,
      "outputs": [
        {
          "output_type": "stream",
          "name": "stdout",
          "text": [
            "enter the number of rows3\n",
            "*\n",
            "\n",
            "*\n",
            "\n",
            "*\n",
            "\n"
          ]
        }
      ]
    },
    {
      "cell_type": "code",
      "source": [],
      "metadata": {
        "id": "jaK8VxZtbPbS"
      },
      "execution_count": null,
      "outputs": []
    }
  ]
}