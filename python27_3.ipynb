{
  "nbformat": 4,
  "nbformat_minor": 0,
  "metadata": {
    "colab": {
      "provenance": [],
      "authorship_tag": "ABX9TyOoQftjGOpC7tSDg0nMETwP",
      "include_colab_link": true
    },
    "kernelspec": {
      "name": "python3",
      "display_name": "Python 3"
    },
    "language_info": {
      "name": "python"
    }
  },
  "cells": [
    {
      "cell_type": "markdown",
      "metadata": {
        "id": "view-in-github",
        "colab_type": "text"
      },
      "source": [
        "<a href=\"https://colab.research.google.com/github/AmalPramod/Introduction-to-Python/blob/main/python27_3.ipynb\" target=\"_parent\"><img src=\"https://colab.research.google.com/assets/colab-badge.svg\" alt=\"Open In Colab\"/></a>"
      ]
    },
    {
      "cell_type": "code",
      "execution_count": 2,
      "metadata": {
        "colab": {
          "base_uri": "https://localhost:8080/"
        },
        "id": "avUjYoXpxrDo",
        "outputId": "6eb2d9f0-14a9-4aba-fe74-1aa1860e23ce"
      },
      "outputs": [
        {
          "output_type": "stream",
          "name": "stdout",
          "text": [
            "how are you\n"
          ]
        }
      ],
      "source": [
        "print('how are you')"
      ]
    },
    {
      "cell_type": "code",
      "source": [
        "a=10\n",
        "b=20\n",
        "print(\"hiii\"+a)"
      ],
      "metadata": {
        "colab": {
          "base_uri": "https://localhost:8080/",
          "height": 200
        },
        "id": "oXcVdKlUy9K9",
        "outputId": "f4e77f51-0c5b-40b5-e780-a0894d7621bc"
      },
      "execution_count": 4,
      "outputs": [
        {
          "output_type": "error",
          "ename": "TypeError",
          "evalue": "ignored",
          "traceback": [
            "\u001b[0;31m---------------------------------------------------------------------------\u001b[0m",
            "\u001b[0;31mTypeError\u001b[0m                                 Traceback (most recent call last)",
            "\u001b[0;32m<ipython-input-4-00a30c1d5c80>\u001b[0m in \u001b[0;36m<module>\u001b[0;34m\u001b[0m\n\u001b[1;32m      1\u001b[0m \u001b[0ma\u001b[0m\u001b[0;34m=\u001b[0m\u001b[0;36m10\u001b[0m\u001b[0;34m\u001b[0m\u001b[0;34m\u001b[0m\u001b[0m\n\u001b[1;32m      2\u001b[0m \u001b[0mb\u001b[0m\u001b[0;34m=\u001b[0m\u001b[0;36m20\u001b[0m\u001b[0;34m\u001b[0m\u001b[0;34m\u001b[0m\u001b[0m\n\u001b[0;32m----> 3\u001b[0;31m \u001b[0mprint\u001b[0m\u001b[0;34m(\u001b[0m\u001b[0;34m\"hiii\"\u001b[0m\u001b[0;34m+\u001b[0m\u001b[0ma\u001b[0m\u001b[0;34m)\u001b[0m\u001b[0;34m\u001b[0m\u001b[0;34m\u001b[0m\u001b[0m\n\u001b[0m",
            "\u001b[0;31mTypeError\u001b[0m: can only concatenate str (not \"int\") to str"
          ]
        }
      ]
    },
    {
      "cell_type": "code",
      "source": [
        "print(\"hiii\"+str(a))"
      ],
      "metadata": {
        "colab": {
          "base_uri": "https://localhost:8080/"
        },
        "id": "AOWx7CJ10Xxv",
        "outputId": "50a39c0f-bd88-4a56-b39d-0464350b7049"
      },
      "execution_count": 6,
      "outputs": [
        {
          "output_type": "stream",
          "name": "stdout",
          "text": [
            "hiii10\n"
          ]
        }
      ]
    },
    {
      "cell_type": "code",
      "source": [
        "print(\"first numbr is =\"+str(a)+\"second numr is =\"+str(b))"
      ],
      "metadata": {
        "colab": {
          "base_uri": "https://localhost:8080/"
        },
        "id": "N1yndiX_0xBu",
        "outputId": "252364e3-2e0d-4de9-fa27-c0f0e71bcb3a"
      },
      "execution_count": 9,
      "outputs": [
        {
          "output_type": "stream",
          "name": "stdout",
          "text": [
            "first numbr is =10second numr is =20\n"
          ]
        }
      ]
    },
    {
      "cell_type": "code",
      "source": [
        "a=input(\"enter a number\")\n",
        "b=input(\"enter second no\")\n",
        "sum=a+b\n",
        "print(\"result\"+sum)\n"
      ],
      "metadata": {
        "colab": {
          "base_uri": "https://localhost:8080/"
        },
        "id": "5B-0EVLF1GoD",
        "outputId": "00387626-9c97-4ea1-ea85-165cb8a64db9"
      },
      "execution_count": 11,
      "outputs": [
        {
          "output_type": "stream",
          "name": "stdout",
          "text": [
            "enter a number23\n",
            "enter second no23\n",
            "result2323\n"
          ]
        }
      ]
    },
    {
      "cell_type": "code",
      "source": [
        "a=input(\"enter 2 numbers\")\n",
        "b=input()\n",
        "sum=int(a)+int(b)\n",
        "print(\"sum=\"+str(sum))"
      ],
      "metadata": {
        "colab": {
          "base_uri": "https://localhost:8080/"
        },
        "id": "JA0yodmK3Bow",
        "outputId": "04a1e631-2127-4fdf-d10f-f241f261541a"
      },
      "execution_count": 13,
      "outputs": [
        {
          "output_type": "stream",
          "name": "stdout",
          "text": [
            "enter 2 numbers20\n",
            "30\n",
            "sum=50\n"
          ]
        }
      ]
    },
    {
      "cell_type": "code",
      "source": [
        "no1=int(input(\"enter 3 numbers\"))\n",
        "no2=int(input())\n",
        "no3=int(input())\n",
        "avg=(no1+no2+no3)/3\n",
        "print(\"average is \"+str(avg))"
      ],
      "metadata": {
        "colab": {
          "base_uri": "https://localhost:8080/"
        },
        "id": "H2wV1m0s3KVE",
        "outputId": "c4c43c20-9634-4651-d591-47a428e6bc20"
      },
      "execution_count": 14,
      "outputs": [
        {
          "output_type": "stream",
          "name": "stdout",
          "text": [
            "enter 3 numbers25\n",
            "25\n",
            "25\n",
            "average is 25.0\n"
          ]
        }
      ]
    },
    {
      "cell_type": "code",
      "source": [
        "a=25\n",
        "b=63\n",
        "temp=a\n",
        "a=b\n",
        "b=temp\n",
        "print(\"ist no= \"+str(a)+\"2nd no =\"+str(b))"
      ],
      "metadata": {
        "colab": {
          "base_uri": "https://localhost:8080/"
        },
        "id": "VVOutnvB6MGe",
        "outputId": "5473848f-57c9-47c8-f24d-44b6d5d7a61b"
      },
      "execution_count": 16,
      "outputs": [
        {
          "output_type": "stream",
          "name": "stdout",
          "text": [
            "ist no= 632nd no =25\n"
          ]
        }
      ]
    },
    {
      "cell_type": "code",
      "source": [
        "#this is my sample commment"
      ],
      "metadata": {
        "id": "Cc5tH-RA68Qi"
      },
      "execution_count": 17,
      "outputs": []
    },
    {
      "cell_type": "code",
      "source": [
        "#length of a string\n",
        "a=\" hello , how are you\"\n",
        "print(len(a))"
      ],
      "metadata": {
        "colab": {
          "base_uri": "https://localhost:8080/"
        },
        "id": "3F_9O-go7vqA",
        "outputId": "8741fabc-1b5c-4b1e-d6b8-b4c9b5056222"
      },
      "execution_count": 18,
      "outputs": [
        {
          "output_type": "stream",
          "name": "stdout",
          "text": [
            "20\n"
          ]
        }
      ]
    },
    {
      "cell_type": "code",
      "source": [
        "print(a[5])"
      ],
      "metadata": {
        "colab": {
          "base_uri": "https://localhost:8080/"
        },
        "id": "Vg5tLvzu8qrW",
        "outputId": "0f5d4327-5b04-4da5-f9f6-61ba90243fd6"
      },
      "execution_count": 19,
      "outputs": [
        {
          "output_type": "stream",
          "name": "stdout",
          "text": [
            "o\n"
          ]
        }
      ]
    },
    {
      "cell_type": "code",
      "source": [
        "print(a[4:6])"
      ],
      "metadata": {
        "colab": {
          "base_uri": "https://localhost:8080/"
        },
        "id": "OzCN8vFS81KX",
        "outputId": "8a00f8d9-fcd2-485b-d65b-30c49999efc7"
      },
      "execution_count": 20,
      "outputs": [
        {
          "output_type": "stream",
          "name": "stdout",
          "text": [
            "lo\n"
          ]
        }
      ]
    },
    {
      "cell_type": "code",
      "source": [
        "print(a[-6:-1])"
      ],
      "metadata": {
        "colab": {
          "base_uri": "https://localhost:8080/"
        },
        "id": "y4x4hqFY9BPn",
        "outputId": "7ce8d59b-c10b-4c22-81d2-5435d8ee1c8c"
      },
      "execution_count": 21,
      "outputs": [
        {
          "output_type": "stream",
          "name": "stdout",
          "text": [
            "re yo\n"
          ]
        }
      ]
    },
    {
      "cell_type": "code",
      "source": [
        "a=\"haiii how are you\"\n",
        "print(a.upper())"
      ],
      "metadata": {
        "colab": {
          "base_uri": "https://localhost:8080/"
        },
        "id": "SykTZ9vG9IuS",
        "outputId": "32fed46e-a1fe-417c-dc68-c9b4e9c9175c"
      },
      "execution_count": 24,
      "outputs": [
        {
          "output_type": "stream",
          "name": "stdout",
          "text": [
            "HAIII HOW ARE YOU\n"
          ]
        }
      ]
    },
    {
      "cell_type": "code",
      "source": [
        "a= \"WE ARE LEGENDS\"\n",
        "print(a.lower())"
      ],
      "metadata": {
        "colab": {
          "base_uri": "https://localhost:8080/"
        },
        "id": "ZeF2V_Rm9nCR",
        "outputId": "5d9e3934-ef3e-4ac7-ebe4-f0ff36a9f72f"
      },
      "execution_count": 26,
      "outputs": [
        {
          "output_type": "stream",
          "name": "stdout",
          "text": [
            "we are legends\n"
          ]
        }
      ]
    },
    {
      "cell_type": "code",
      "source": [],
      "metadata": {
        "id": "FZ5UvohQ91KI"
      },
      "execution_count": null,
      "outputs": []
    }
  ]
}